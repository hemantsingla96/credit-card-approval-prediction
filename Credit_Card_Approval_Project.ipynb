{
  "metadata": {
    "kernelspec": {
      "language": "python",
      "display_name": "Python 3",
      "name": "python3"
    },
    "language_info": {
      "name": "python",
      "version": "3.10.13",
      "mimetype": "text/x-python",
      "codemirror_mode": {
        "name": "ipython",
        "version": 3
      },
      "pygments_lexer": "ipython3",
      "nbconvert_exporter": "python",
      "file_extension": ".py"
    },
    "kaggle": {
      "accelerator": "none",
      "dataSources": [
        {
          "sourceId": 7875621,
          "sourceType": "datasetVersion",
          "datasetId": 4621749
        }
      ],
      "dockerImageVersionId": 30664,
      "isInternetEnabled": true,
      "language": "python",
      "sourceType": "notebook",
      "isGpuEnabled": false
    },
    "colab": {
      "name": "Credit Card Approval Project",
      "provenance": [],
      "include_colab_link": true
    }
  },
  "nbformat_minor": 0,
  "nbformat": 4,
  "cells": [
    {
      "cell_type": "markdown",
      "metadata": {
        "id": "view-in-github",
        "colab_type": "text"
      },
      "source": [
        "<a href=\"https://colab.research.google.com/github/hemantsingla96/credit-card-approval-prediction/blob/main/Credit_Card_Approval_Project.ipynb\" target=\"_parent\"><img src=\"https://colab.research.google.com/assets/colab-badge.svg\" alt=\"Open In Colab\"/></a>"
      ]
    },
    {
      "source": [
        "\n",
        "# IMPORTANT: RUN THIS CELL IN ORDER TO IMPORT YOUR KAGGLE DATA SOURCES\n",
        "# TO THE CORRECT LOCATION (/kaggle/input) IN YOUR NOTEBOOK,\n",
        "# THEN FEEL FREE TO DELETE THIS CELL.\n",
        "# NOTE: THIS NOTEBOOK ENVIRONMENT DIFFERS FROM KAGGLE'S PYTHON\n",
        "# ENVIRONMENT SO THERE MAY BE MISSING LIBRARIES USED BY YOUR\n",
        "# NOTEBOOK.\n",
        "\n",
        "import os\n",
        "import sys\n",
        "from tempfile import NamedTemporaryFile\n",
        "from urllib.request import urlopen\n",
        "from urllib.parse import unquote, urlparse\n",
        "from urllib.error import HTTPError\n",
        "from zipfile import ZipFile\n",
        "import tarfile\n",
        "import shutil\n",
        "\n",
        "CHUNK_SIZE = 40960\n",
        "DATA_SOURCE_MAPPING = 'credit-card-approval:https%3A%2F%2Fstorage.googleapis.com%2Fkaggle-data-sets%2F4621749%2F7875621%2Fbundle%2Farchive.zip%3FX-Goog-Algorithm%3DGOOG4-RSA-SHA256%26X-Goog-Credential%3Dgcp-kaggle-com%2540kaggle-161607.iam.gserviceaccount.com%252F20240727%252Fauto%252Fstorage%252Fgoog4_request%26X-Goog-Date%3D20240727T081026Z%26X-Goog-Expires%3D259200%26X-Goog-SignedHeaders%3Dhost%26X-Goog-Signature%3D2f31b50311668792a548714b036b6961bd2d3f46e8bc4e5f1a322036e964bd3783dac7c55e1dbc4215ca89dd735e5d948ad674c36c13a58fe32ee02452e04c0f477ef56e8933159ae12aa7fb8086ecff67c1c45dca0de01a3c5c90015cd05f780cb5b85d0573dffe1a54ee831b9d32ded6880d298de0e8cad132cf6d5be77aa01029a68660bed0846efea4b1b78f58a24e1c66e1159683277a8ec2cd513217c1c32e41c40d8c5e1089eed40056d21a06ed85aba93bab13b7545ceb06c21ef55bcd346be718007f51faa96dee66e19101fd3efc55b07011654d9ad8690c8750beebe5462cdf13186aae3f1b78d58e99bdea236996455d1f89f68a120ac00b5126'\n",
        "\n",
        "KAGGLE_INPUT_PATH='/kaggle/input'\n",
        "KAGGLE_WORKING_PATH='/kaggle/working'\n",
        "KAGGLE_SYMLINK='kaggle'\n",
        "\n",
        "!umount /kaggle/input/ 2> /dev/null\n",
        "shutil.rmtree('/kaggle/input', ignore_errors=True)\n",
        "os.makedirs(KAGGLE_INPUT_PATH, 0o777, exist_ok=True)\n",
        "os.makedirs(KAGGLE_WORKING_PATH, 0o777, exist_ok=True)\n",
        "\n",
        "try:\n",
        "  os.symlink(KAGGLE_INPUT_PATH, os.path.join(\"..\", 'input'), target_is_directory=True)\n",
        "except FileExistsError:\n",
        "  pass\n",
        "try:\n",
        "  os.symlink(KAGGLE_WORKING_PATH, os.path.join(\"..\", 'working'), target_is_directory=True)\n",
        "except FileExistsError:\n",
        "  pass\n",
        "\n",
        "for data_source_mapping in DATA_SOURCE_MAPPING.split(','):\n",
        "    directory, download_url_encoded = data_source_mapping.split(':')\n",
        "    download_url = unquote(download_url_encoded)\n",
        "    filename = urlparse(download_url).path\n",
        "    destination_path = os.path.join(KAGGLE_INPUT_PATH, directory)\n",
        "    try:\n",
        "        with urlopen(download_url) as fileres, NamedTemporaryFile() as tfile:\n",
        "            total_length = fileres.headers['content-length']\n",
        "            print(f'Downloading {directory}, {total_length} bytes compressed')\n",
        "            dl = 0\n",
        "            data = fileres.read(CHUNK_SIZE)\n",
        "            while len(data) > 0:\n",
        "                dl += len(data)\n",
        "                tfile.write(data)\n",
        "                done = int(50 * dl / int(total_length))\n",
        "                sys.stdout.write(f\"\\r[{'=' * done}{' ' * (50-done)}] {dl} bytes downloaded\")\n",
        "                sys.stdout.flush()\n",
        "                data = fileres.read(CHUNK_SIZE)\n",
        "            if filename.endswith('.zip'):\n",
        "              with ZipFile(tfile) as zfile:\n",
        "                zfile.extractall(destination_path)\n",
        "            else:\n",
        "              with tarfile.open(tfile.name) as tarfile:\n",
        "                tarfile.extractall(destination_path)\n",
        "            print(f'\\nDownloaded and uncompressed: {directory}')\n",
        "    except HTTPError as e:\n",
        "        print(f'Failed to load (likely expired) {download_url} to path {destination_path}')\n",
        "        continue\n",
        "    except OSError as e:\n",
        "        print(f'Failed to load {download_url} to path {destination_path}')\n",
        "        continue\n",
        "\n",
        "print('Data source import complete.')\n"
      ],
      "metadata": {
        "id": "6kjTa5L9PcAG"
      },
      "cell_type": "code",
      "outputs": [],
      "execution_count": null
    },
    {
      "cell_type": "markdown",
      "source": [
        "Commercial banks get a lot of requests for credit cards. But, they often reject many of them because of reasons like having too much debt,low income, or too many inquiries on a person's credit history. Analyzing these requests manually takes a lot of time and can lead to mistakes.Thankfully, we can use machine learning to automate this process, just like most banks do. In this guide, we'll make a credit card approval predictor using machine learning techniques\n",
        "\n",
        "**Section 1.** Why is your proposal important in today’s world? How predicting a good client is worthy for a bank?\n",
        "\n",
        "Predicting good client is crucial for banks to minimize creditr risk and make informed lending decisions in today's world where DATA SCIENCE & ML are becoming integral to financial institution accurate credit card approvalpredictions can significantly impact a bank's profitability and customer satisfaction\n",
        "\n",
        "**2. How is it going to impact the banking sector?**\n",
        "\n",
        "Accurate credit card approval predictions can lead to reduced default rates, lower financial losses, and improved customer experiences. This can positively impact a bank's profitability, reputation, and competitiveness in the market.\n",
        "\n",
        "**3. If any, what is the gap in the knowledge or how your proposed method canbe helpful if required in the future for any bank in India?**\n",
        "\n",
        "The proposed method can address the gap in credit assessment by incorporating advanced data analysis and machine learning techniques. Its adaptability makes it valuable for banks in India and beyond, as it can continuously evolve to consider new data sources and enhance creditworthiness assessments.\n",
        "\n",
        "**Section 2: Initial Hypotheses**\n",
        "\n",
        "In the Data Analysis (DA) track, we will aim to identify patterns in the data and important features that may impact a Machine Learning (ML) model. Our initial hypotheses are:\n",
        "\n",
        "**Hypothesis 1:** Income type, annual income, and education level are crucial factors in predicting credit card approval.\n",
        "\n",
        "**Hypothesis 2:** Car ownership, property ownership, and family size may influence credit card approval decisions.\n",
        "\n",
        "**Hypothesis 3:** The length of employment and the presence of a mobile phone or email address could be relevant features.\n",
        "\n",
        "**Hypothesis 4:** Gender, marital status, and housing type may also play a role in credit card approval.\n",
        "\n",
        "**Section 3: Data Analysis Approach**\n",
        "\n",
        "Our data analysis approach will involve: Exploratory Data Analysis (EDA) to identify important patterns, correlations, and outliers in the data. Feature engineering techniques to create relevant features that can improve model performance. Utilizing visualization tools to justify our findings and provide insights into the relationships within the data.\n",
        "\n",
        "**Feature Engineering**\n",
        "\n",
        "This Project required some feature Engineering techniques like onehot encoding,label encoding to transform the categorical variable into numerical variable and feature engineering like standard scaler to normalize the data for machine learning\n",
        "\n",
        "**justification of data analysis approach**\n",
        "\n",
        "Here we used visulisation tools like boxplot to determine the outlier and histogram to show the distribution of data. Replace the null value with median and mode to make the data more suitable for machine learning\n",
        "\n",
        "**Section 4: Machine Learning Approach**\n",
        "\n",
        "We will use various machine learning models, including but not limited to logistic regression, decision trees, random forests,SVM and XGBoost, to predict credit card approval based on customer information.\n",
        "\n",
        "**Justification for Model Selection:**\n",
        "\n",
        "Logistic Regression: A simple yet interpretable model to establish a baseline. Decision Trees and Random Forests: To capture non-linear relationships and feature interactions. XGBoost: To improve predictive accuracy by combining multiple weak models\n",
        "\n",
        "**Steps to Improve Model Accuracy:**\n",
        "\n",
        "Feature selection to identify the most relevant variables. Hyperparameter tuning for model optimization. Cross-validation to assess model performance. Evaluation metrics, such as accuracy, precision, recall, and F1-score, to justify the chosen model.\n",
        "\n",
        "**Comparison of Models:**\n",
        "\n",
        "We compared the performance of at least four machine learning models using classification_report, accuracy_score, confusion_matrix and cross valiation to determine the most suitable model for credit card approval prediction. XGBoost Model is giving highest accuracy of 90 %, hence we will use XGBoost Model for predicion among the four model.\n",
        "\n",
        "########\n",
        "\n",
        "A number of applications for credit cards are received by commercial banks. For various factors, many of them are refused, such as high debt balances, low income levels, or too many questions into an individual's credit report, for instance. It is mundane, error-prone, and time-consuming and time is money! to manually analyze these applications. Luckily,with the power of machine learning, this activity can be automated and almost every commercial bank does so nowadays.In this notebook, we will create an automated credit card approval predictor using machine learning techniques, just like the real banks do.\n",
        "\n",
        "**This notebook follows the some instructions**\n",
        "\n",
        "At first , we load and view the dataset.\n",
        "\n",
        "Here, we could see some numerical and categorical values.This valus are some missing , attributes are not relevant.\n",
        "\n",
        "We will have to preprocesses the data to ensure before implementing machine learning model and so that we can get better performance from my model.\n",
        "\n",
        "We will make visualize on the data cause visualize data can say a thousands of word in insights.\n",
        "\n",
        "We will evaluate performance the model.\n",
        "\n",
        "Then we will do hyperparameter tuning and optimization so that we can get better performance.\n",
        "\n",
        "We will also do comparison some machine learning model which model will give a better result."
      ],
      "metadata": {
        "id": "4MUy1KKTPcAR"
      }
    },
    {
      "cell_type": "code",
      "source": [
        "import pandas as pd\n",
        "import numpy as np\n",
        "import matplotlib.pyplot as plt\n",
        "import seaborn as sns"
      ],
      "metadata": {
        "execution": {
          "iopub.status.busy": "2024-03-18T12:09:13.60265Z",
          "iopub.execute_input": "2024-03-18T12:09:13.603152Z",
          "iopub.status.idle": "2024-03-18T12:09:14.951459Z",
          "shell.execute_reply.started": "2024-03-18T12:09:13.603098Z",
          "shell.execute_reply": "2024-03-18T12:09:14.949824Z"
        },
        "trusted": true,
        "id": "iP5iPxCCPcAW"
      },
      "execution_count": null,
      "outputs": []
    },
    {
      "cell_type": "code",
      "source": [
        "df1 = pd.read_csv(\"/kaggle/input/credit-card-approval/Credit_card.csv\")\n",
        "df2 = pd.read_csv(\"/kaggle/input/credit-card-approval/Credit_card_label.csv\")"
      ],
      "metadata": {
        "execution": {
          "iopub.status.busy": "2024-03-18T12:09:41.803438Z",
          "iopub.execute_input": "2024-03-18T12:09:41.804129Z",
          "iopub.status.idle": "2024-03-18T12:09:41.84389Z",
          "shell.execute_reply.started": "2024-03-18T12:09:41.804087Z",
          "shell.execute_reply": "2024-03-18T12:09:41.842212Z"
        },
        "trusted": true,
        "id": "3I-_SKzCPcAX"
      },
      "execution_count": null,
      "outputs": []
    },
    {
      "cell_type": "code",
      "source": [
        "df1 = df1.drop_duplicates(subset=[\"Ind_ID\"], keep=\"last\")"
      ],
      "metadata": {
        "execution": {
          "iopub.status.busy": "2024-03-18T12:09:51.575955Z",
          "iopub.execute_input": "2024-03-18T12:09:51.576394Z",
          "iopub.status.idle": "2024-03-18T12:09:51.592336Z",
          "shell.execute_reply.started": "2024-03-18T12:09:51.576365Z",
          "shell.execute_reply": "2024-03-18T12:09:51.59085Z"
        },
        "trusted": true,
        "id": "Eri166SIPcAY"
      },
      "execution_count": null,
      "outputs": []
    },
    {
      "cell_type": "code",
      "source": [
        "df = pd.merge(df1,df2,on='Ind_ID',how='inner')\n",
        "df.head()"
      ],
      "metadata": {
        "execution": {
          "iopub.status.busy": "2024-03-18T12:10:05.607495Z",
          "iopub.execute_input": "2024-03-18T12:10:05.608002Z",
          "iopub.status.idle": "2024-03-18T12:10:05.662511Z",
          "shell.execute_reply.started": "2024-03-18T12:10:05.607964Z",
          "shell.execute_reply": "2024-03-18T12:10:05.660829Z"
        },
        "trusted": true,
        "id": "4NNvIWd3PcAZ"
      },
      "execution_count": null,
      "outputs": []
    },
    {
      "cell_type": "code",
      "source": [
        "df.shape"
      ],
      "metadata": {
        "execution": {
          "iopub.status.busy": "2024-03-18T12:10:15.488051Z",
          "iopub.execute_input": "2024-03-18T12:10:15.488526Z",
          "iopub.status.idle": "2024-03-18T12:10:15.500154Z",
          "shell.execute_reply.started": "2024-03-18T12:10:15.488492Z",
          "shell.execute_reply": "2024-03-18T12:10:15.498507Z"
        },
        "trusted": true,
        "id": "w9alb9srPcAa"
      },
      "execution_count": null,
      "outputs": []
    },
    {
      "cell_type": "code",
      "source": [
        "df.info()"
      ],
      "metadata": {
        "execution": {
          "iopub.status.busy": "2024-03-18T12:10:23.102235Z",
          "iopub.execute_input": "2024-03-18T12:10:23.102701Z",
          "iopub.status.idle": "2024-03-18T12:10:23.12769Z",
          "shell.execute_reply.started": "2024-03-18T12:10:23.102664Z",
          "shell.execute_reply": "2024-03-18T12:10:23.126238Z"
        },
        "trusted": true,
        "id": "oY8VO70IPcAc"
      },
      "execution_count": null,
      "outputs": []
    },
    {
      "cell_type": "code",
      "source": [
        "df.describe()"
      ],
      "metadata": {
        "execution": {
          "iopub.status.busy": "2024-03-18T12:10:32.810047Z",
          "iopub.execute_input": "2024-03-18T12:10:32.810458Z",
          "iopub.status.idle": "2024-03-18T12:10:32.869783Z",
          "shell.execute_reply.started": "2024-03-18T12:10:32.810426Z",
          "shell.execute_reply": "2024-03-18T12:10:32.868241Z"
        },
        "trusted": true,
        "id": "qfFxJgzBPcAd"
      },
      "execution_count": null,
      "outputs": []
    },
    {
      "cell_type": "code",
      "source": [
        "df.isnull().sum()"
      ],
      "metadata": {
        "execution": {
          "iopub.status.busy": "2024-03-18T12:10:40.931283Z",
          "iopub.execute_input": "2024-03-18T12:10:40.931756Z",
          "iopub.status.idle": "2024-03-18T12:10:40.944849Z",
          "shell.execute_reply.started": "2024-03-18T12:10:40.931697Z",
          "shell.execute_reply": "2024-03-18T12:10:40.943338Z"
        },
        "trusted": true,
        "id": "JtcUWbkLPcAe"
      },
      "execution_count": null,
      "outputs": []
    },
    {
      "cell_type": "code",
      "source": [
        "df['GENDER'].fillna(df['GENDER'].mode()[0],inplace = True)"
      ],
      "metadata": {
        "execution": {
          "iopub.status.busy": "2024-03-18T12:10:51.241326Z",
          "iopub.execute_input": "2024-03-18T12:10:51.242703Z",
          "iopub.status.idle": "2024-03-18T12:10:51.2525Z",
          "shell.execute_reply.started": "2024-03-18T12:10:51.242644Z",
          "shell.execute_reply": "2024-03-18T12:10:51.251208Z"
        },
        "trusted": true,
        "id": "fAHJogT_PcAf"
      },
      "execution_count": null,
      "outputs": []
    },
    {
      "cell_type": "code",
      "source": [
        "df['Annual_income'].fillna(df['Annual_income'].median(),inplace = True)"
      ],
      "metadata": {
        "execution": {
          "iopub.status.busy": "2024-03-18T12:11:17.962481Z",
          "iopub.execute_input": "2024-03-18T12:11:17.96303Z",
          "iopub.status.idle": "2024-03-18T12:11:17.971808Z",
          "shell.execute_reply.started": "2024-03-18T12:11:17.962991Z",
          "shell.execute_reply": "2024-03-18T12:11:17.970739Z"
        },
        "trusted": true,
        "id": "KVjfW-bwPcAg"
      },
      "execution_count": null,
      "outputs": []
    },
    {
      "cell_type": "code",
      "source": [
        "df['Birthday_count'].fillna(df['Birthday_count'].median(),inplace = True)"
      ],
      "metadata": {
        "execution": {
          "iopub.status.busy": "2024-03-18T12:26:45.896912Z",
          "iopub.execute_input": "2024-03-18T12:26:45.897437Z",
          "iopub.status.idle": "2024-03-18T12:26:45.908336Z",
          "shell.execute_reply.started": "2024-03-18T12:26:45.897401Z",
          "shell.execute_reply": "2024-03-18T12:26:45.906842Z"
        },
        "trusted": true,
        "id": "PhMgeCpVPcAg"
      },
      "execution_count": null,
      "outputs": []
    },
    {
      "cell_type": "code",
      "source": [
        "df.isnull().sum()"
      ],
      "metadata": {
        "execution": {
          "iopub.status.busy": "2024-03-18T12:27:12.061429Z",
          "iopub.execute_input": "2024-03-18T12:27:12.062022Z",
          "iopub.status.idle": "2024-03-18T12:27:12.077897Z",
          "shell.execute_reply.started": "2024-03-18T12:27:12.061982Z",
          "shell.execute_reply": "2024-03-18T12:27:12.076256Z"
        },
        "trusted": true,
        "id": "dSqu_SqEPcAg"
      },
      "execution_count": null,
      "outputs": []
    },
    {
      "cell_type": "code",
      "source": [
        "df.drop('Type_Occupation',axis = 1,inplace = True) #dropping the Type_Occupation because it has so many null values"
      ],
      "metadata": {
        "execution": {
          "iopub.status.busy": "2024-03-18T12:27:25.081073Z",
          "iopub.execute_input": "2024-03-18T12:27:25.081554Z",
          "iopub.status.idle": "2024-03-18T12:27:25.092773Z",
          "shell.execute_reply.started": "2024-03-18T12:27:25.081519Z",
          "shell.execute_reply": "2024-03-18T12:27:25.091053Z"
        },
        "trusted": true,
        "id": "z9Sg1CwxPcAh"
      },
      "execution_count": null,
      "outputs": []
    },
    {
      "cell_type": "code",
      "source": [
        "df.info()"
      ],
      "metadata": {
        "execution": {
          "iopub.status.busy": "2024-03-18T12:27:38.868548Z",
          "iopub.execute_input": "2024-03-18T12:27:38.869074Z",
          "iopub.status.idle": "2024-03-18T12:27:38.889298Z",
          "shell.execute_reply.started": "2024-03-18T12:27:38.869039Z",
          "shell.execute_reply": "2024-03-18T12:27:38.887424Z"
        },
        "trusted": true,
        "id": "VUg9EdkxPcAh"
      },
      "execution_count": null,
      "outputs": []
    },
    {
      "cell_type": "code",
      "source": [
        "cat_columns = df.columns[(df.dtypes =='object').values].tolist() #Checking the categorical columns\n",
        "cat_columns"
      ],
      "metadata": {
        "execution": {
          "iopub.status.busy": "2024-03-18T12:27:48.00687Z",
          "iopub.execute_input": "2024-03-18T12:27:48.00734Z",
          "iopub.status.idle": "2024-03-18T12:27:48.018106Z",
          "shell.execute_reply.started": "2024-03-18T12:27:48.007299Z",
          "shell.execute_reply": "2024-03-18T12:27:48.016312Z"
        },
        "trusted": true,
        "id": "tn7LxaFcPcAh"
      },
      "execution_count": null,
      "outputs": []
    },
    {
      "cell_type": "code",
      "source": [
        "num_columns = df.columns[(df.dtypes !='object').values].tolist() #checking the numerical columns\n",
        "num_columns"
      ],
      "metadata": {
        "execution": {
          "iopub.status.busy": "2024-03-18T12:27:56.263461Z",
          "iopub.execute_input": "2024-03-18T12:27:56.263924Z",
          "iopub.status.idle": "2024-03-18T12:27:56.275517Z",
          "shell.execute_reply.started": "2024-03-18T12:27:56.263889Z",
          "shell.execute_reply": "2024-03-18T12:27:56.273995Z"
        },
        "trusted": true,
        "id": "apVAe16ZPcAh"
      },
      "execution_count": null,
      "outputs": []
    },
    {
      "cell_type": "code",
      "source": [
        "# Checking unique values from Categorical Columns\n",
        "\n",
        "for i in df.columns[(df.dtypes =='object').values].tolist():\n",
        "    print(i,'\\n')\n",
        "    print(df[i].value_counts())\n",
        "    print('-----------------------------------------------')"
      ],
      "metadata": {
        "execution": {
          "iopub.status.busy": "2024-03-18T12:28:11.383881Z",
          "iopub.execute_input": "2024-03-18T12:28:11.384544Z",
          "iopub.status.idle": "2024-03-18T12:28:11.411859Z",
          "shell.execute_reply.started": "2024-03-18T12:28:11.384491Z",
          "shell.execute_reply": "2024-03-18T12:28:11.410528Z"
        },
        "trusted": true,
        "id": "wnj5bP2vPcAh"
      },
      "execution_count": null,
      "outputs": []
    },
    {
      "cell_type": "code",
      "source": [
        "df['CHILDREN'].value_counts()"
      ],
      "metadata": {
        "execution": {
          "iopub.status.busy": "2024-03-18T12:28:22.557471Z",
          "iopub.execute_input": "2024-03-18T12:28:22.557934Z",
          "iopub.status.idle": "2024-03-18T12:28:22.571375Z",
          "shell.execute_reply.started": "2024-03-18T12:28:22.557902Z",
          "shell.execute_reply": "2024-03-18T12:28:22.569496Z"
        },
        "trusted": true,
        "id": "SCzujDZLPcAi"
      },
      "execution_count": null,
      "outputs": []
    },
    {
      "cell_type": "code",
      "source": [
        "# Checking Min , Max values from 'DAYS_BIRTH' column\n",
        "print('Min DAYS_BIRTH :', df['Birthday_count'].min(),'\\nMax DAYS_BIRTH :', df['Birthday_count'].max())"
      ],
      "metadata": {
        "execution": {
          "iopub.status.busy": "2024-03-18T12:28:31.468796Z",
          "iopub.execute_input": "2024-03-18T12:28:31.469306Z",
          "iopub.status.idle": "2024-03-18T12:28:31.477308Z",
          "shell.execute_reply.started": "2024-03-18T12:28:31.46927Z",
          "shell.execute_reply": "2024-03-18T12:28:31.476357Z"
        },
        "trusted": true,
        "id": "XNlWw49YPcAi"
      },
      "execution_count": null,
      "outputs": []
    },
    {
      "cell_type": "code",
      "source": [
        "# Converting 'DAYS_BIRTH' values from Day to Years\n",
        "df['Birthday_count'] = round(df['Birthday_count']/-365,0)\n",
        "df.rename(columns={'Birthday_count':'AGE_YEARS'}, inplace=True)"
      ],
      "metadata": {
        "execution": {
          "iopub.status.busy": "2024-03-18T12:28:39.558732Z",
          "iopub.execute_input": "2024-03-18T12:28:39.559206Z",
          "iopub.status.idle": "2024-03-18T12:28:39.567322Z",
          "shell.execute_reply.started": "2024-03-18T12:28:39.559172Z",
          "shell.execute_reply": "2024-03-18T12:28:39.566193Z"
        },
        "trusted": true,
        "id": "f4R3BN6YPcAi"
      },
      "execution_count": null,
      "outputs": []
    },
    {
      "cell_type": "code",
      "source": [
        "df.head()"
      ],
      "metadata": {
        "execution": {
          "iopub.status.busy": "2024-03-18T12:28:46.299376Z",
          "iopub.execute_input": "2024-03-18T12:28:46.299856Z",
          "iopub.status.idle": "2024-03-18T12:28:46.330687Z",
          "shell.execute_reply.started": "2024-03-18T12:28:46.299821Z",
          "shell.execute_reply": "2024-03-18T12:28:46.328678Z"
        },
        "trusted": true,
        "id": "bBDahMdDPcAi"
      },
      "execution_count": null,
      "outputs": []
    },
    {
      "cell_type": "code",
      "source": [
        "# Checking unique values greater than 0\n",
        "df['Employed_days'].unique()"
      ],
      "metadata": {
        "execution": {
          "iopub.status.busy": "2024-03-18T12:28:54.977588Z",
          "iopub.execute_input": "2024-03-18T12:28:54.980799Z",
          "iopub.status.idle": "2024-03-18T12:28:54.997169Z",
          "shell.execute_reply.started": "2024-03-18T12:28:54.980745Z",
          "shell.execute_reply": "2024-03-18T12:28:54.99502Z"
        },
        "trusted": true,
        "id": "Z7DoAfAZPcAi"
      },
      "execution_count": null,
      "outputs": []
    },
    {
      "cell_type": "code",
      "source": [
        "# As mentioned in document, if 'DAYS_EMPLOYED' is positive no, it means person currently unemployed, hence replacing it with 0\n",
        "df['Employed_days'].replace(365243, 0, inplace=True)"
      ],
      "metadata": {
        "execution": {
          "iopub.status.busy": "2024-03-18T12:29:11.016014Z",
          "iopub.execute_input": "2024-03-18T12:29:11.016477Z",
          "iopub.status.idle": "2024-03-18T12:29:11.025054Z",
          "shell.execute_reply.started": "2024-03-18T12:29:11.016444Z",
          "shell.execute_reply": "2024-03-18T12:29:11.023811Z"
        },
        "trusted": true,
        "id": "HWVLC7xePcAi"
      },
      "execution_count": null,
      "outputs": []
    },
    {
      "cell_type": "code",
      "source": [
        "# Converting 'DAYS_EMPLOYED' values from Day to Years\n",
        "df['Employed_days'] = abs(round(df['Employed_days']/-365,0))\n",
        "df.rename(columns={'Employed_days':'YEARS_EMPLOYED'}, inplace=True)"
      ],
      "metadata": {
        "execution": {
          "iopub.status.busy": "2024-03-18T12:29:19.880854Z",
          "iopub.execute_input": "2024-03-18T12:29:19.881295Z",
          "iopub.status.idle": "2024-03-18T12:29:19.889573Z",
          "shell.execute_reply.started": "2024-03-18T12:29:19.881254Z",
          "shell.execute_reply": "2024-03-18T12:29:19.888383Z"
        },
        "trusted": true,
        "id": "CCNdfn95PcAj"
      },
      "execution_count": null,
      "outputs": []
    },
    {
      "cell_type": "code",
      "source": [
        "df['Mobile_phone'].value_counts()"
      ],
      "metadata": {
        "execution": {
          "iopub.status.busy": "2024-03-18T12:29:33.584667Z",
          "iopub.execute_input": "2024-03-18T12:29:33.585093Z",
          "iopub.status.idle": "2024-03-18T12:29:33.594936Z",
          "shell.execute_reply.started": "2024-03-18T12:29:33.585062Z",
          "shell.execute_reply": "2024-03-18T12:29:33.593509Z"
        },
        "trusted": true,
        "id": "gpV_wEf7PcAj"
      },
      "execution_count": null,
      "outputs": []
    },
    {
      "cell_type": "code",
      "source": [
        "# As all the values in column are 1, hence dropping column\n",
        "df.drop('Mobile_phone', axis=1, inplace=True)"
      ],
      "metadata": {
        "execution": {
          "iopub.status.busy": "2024-03-18T12:29:40.908862Z",
          "iopub.execute_input": "2024-03-18T12:29:40.909303Z",
          "iopub.status.idle": "2024-03-18T12:29:40.918346Z",
          "shell.execute_reply.started": "2024-03-18T12:29:40.909271Z",
          "shell.execute_reply": "2024-03-18T12:29:40.916958Z"
        },
        "trusted": true,
        "id": "URZw2gZxPcAj"
      },
      "execution_count": null,
      "outputs": []
    },
    {
      "cell_type": "code",
      "source": [
        "df['Work_Phone'].value_counts()"
      ],
      "metadata": {
        "execution": {
          "iopub.status.busy": "2024-03-18T12:29:48.8435Z",
          "iopub.execute_input": "2024-03-18T12:29:48.844001Z",
          "iopub.status.idle": "2024-03-18T12:29:48.854548Z",
          "shell.execute_reply.started": "2024-03-18T12:29:48.843956Z",
          "shell.execute_reply": "2024-03-18T12:29:48.853241Z"
        },
        "trusted": true,
        "id": "yFJExNj9PcAj"
      },
      "execution_count": null,
      "outputs": []
    },
    {
      "cell_type": "code",
      "source": [
        "# This column only contains 0 & 1 values for Mobile no submitted, hence dropping column\n",
        "df.drop('Work_Phone', axis=1, inplace=True)"
      ],
      "metadata": {
        "execution": {
          "iopub.status.busy": "2024-03-18T12:29:56.533761Z",
          "iopub.execute_input": "2024-03-18T12:29:56.534198Z",
          "iopub.status.idle": "2024-03-18T12:29:56.543769Z",
          "shell.execute_reply.started": "2024-03-18T12:29:56.534168Z",
          "shell.execute_reply": "2024-03-18T12:29:56.540776Z"
        },
        "trusted": true,
        "id": "8ifYuJesPcAj"
      },
      "execution_count": null,
      "outputs": []
    },
    {
      "cell_type": "code",
      "source": [
        "df['Phone'].value_counts()"
      ],
      "metadata": {
        "execution": {
          "iopub.status.busy": "2024-03-18T12:30:04.369873Z",
          "iopub.execute_input": "2024-03-18T12:30:04.370374Z",
          "iopub.status.idle": "2024-03-18T12:30:04.381811Z",
          "shell.execute_reply.started": "2024-03-18T12:30:04.370337Z",
          "shell.execute_reply": "2024-03-18T12:30:04.380137Z"
        },
        "trusted": true,
        "id": "LichA0MdPcAj"
      },
      "execution_count": null,
      "outputs": []
    },
    {
      "cell_type": "code",
      "source": [
        "# This column only contains 0 & 1 values for Phone no submitted, hence dropping column\n",
        "df.drop('Phone', axis=1, inplace=True)"
      ],
      "metadata": {
        "execution": {
          "iopub.status.busy": "2024-03-18T12:30:14.731447Z",
          "iopub.execute_input": "2024-03-18T12:30:14.732273Z",
          "iopub.status.idle": "2024-03-18T12:30:14.739756Z",
          "shell.execute_reply.started": "2024-03-18T12:30:14.73223Z",
          "shell.execute_reply": "2024-03-18T12:30:14.738373Z"
        },
        "trusted": true,
        "id": "AH_e2X8fPcAk"
      },
      "execution_count": null,
      "outputs": []
    },
    {
      "cell_type": "code",
      "source": [
        "df['EMAIL_ID'].value_counts()"
      ],
      "metadata": {
        "execution": {
          "iopub.status.busy": "2024-03-18T12:30:22.227964Z",
          "iopub.execute_input": "2024-03-18T12:30:22.228424Z",
          "iopub.status.idle": "2024-03-18T12:30:22.239907Z",
          "shell.execute_reply.started": "2024-03-18T12:30:22.228391Z",
          "shell.execute_reply": "2024-03-18T12:30:22.238266Z"
        },
        "trusted": true,
        "id": "pzcPSjT5PcAk"
      },
      "execution_count": null,
      "outputs": []
    },
    {
      "cell_type": "code",
      "source": [
        "# This column only contains 0 & 1 values for Email submitted, hence dropping column\n",
        "df.drop('EMAIL_ID', axis=1, inplace=True)"
      ],
      "metadata": {
        "execution": {
          "iopub.status.busy": "2024-03-18T12:30:29.469951Z",
          "iopub.execute_input": "2024-03-18T12:30:29.470381Z",
          "iopub.status.idle": "2024-03-18T12:30:29.479072Z",
          "shell.execute_reply.started": "2024-03-18T12:30:29.47035Z",
          "shell.execute_reply": "2024-03-18T12:30:29.477304Z"
        },
        "trusted": true,
        "id": "5CZo-3QsPcAk"
      },
      "execution_count": null,
      "outputs": []
    },
    {
      "cell_type": "code",
      "source": [
        "df['Family_Members'].value_counts()"
      ],
      "metadata": {
        "execution": {
          "iopub.status.busy": "2024-03-18T12:30:38.568168Z",
          "iopub.execute_input": "2024-03-18T12:30:38.568601Z",
          "iopub.status.idle": "2024-03-18T12:30:38.579765Z",
          "shell.execute_reply.started": "2024-03-18T12:30:38.568569Z",
          "shell.execute_reply": "2024-03-18T12:30:38.577997Z"
        },
        "trusted": true,
        "id": "BVr4G7SGPcAl"
      },
      "execution_count": null,
      "outputs": []
    },
    {
      "cell_type": "code",
      "source": [
        "df.head()"
      ],
      "metadata": {
        "execution": {
          "iopub.status.busy": "2024-03-18T12:30:45.999276Z",
          "iopub.execute_input": "2024-03-18T12:30:45.999738Z",
          "iopub.status.idle": "2024-03-18T12:30:46.023866Z",
          "shell.execute_reply.started": "2024-03-18T12:30:45.99969Z",
          "shell.execute_reply": "2024-03-18T12:30:46.022935Z"
        },
        "trusted": true,
        "id": "d8zrp3D3PcAl"
      },
      "execution_count": null,
      "outputs": []
    },
    {
      "cell_type": "markdown",
      "source": [
        "# Visualization"
      ],
      "metadata": {
        "id": "O5j9j94mPcAl"
      }
    },
    {
      "cell_type": "code",
      "source": [
        "#create plot to detect outliers\n",
        "sns.boxplot(df['CHILDREN'])"
      ],
      "metadata": {
        "execution": {
          "iopub.status.busy": "2024-03-18T12:31:09.015542Z",
          "iopub.execute_input": "2024-03-18T12:31:09.017035Z",
          "iopub.status.idle": "2024-03-18T12:31:09.423328Z",
          "shell.execute_reply.started": "2024-03-18T12:31:09.016981Z",
          "shell.execute_reply": "2024-03-18T12:31:09.421954Z"
        },
        "trusted": true,
        "id": "plUCyX2hPcAl"
      },
      "execution_count": null,
      "outputs": []
    },
    {
      "cell_type": "code",
      "source": [
        "sns.boxplot(df['Annual_income'])"
      ],
      "metadata": {
        "execution": {
          "iopub.status.busy": "2024-03-18T12:31:17.850947Z",
          "iopub.execute_input": "2024-03-18T12:31:17.851603Z",
          "iopub.status.idle": "2024-03-18T12:31:18.108487Z",
          "shell.execute_reply.started": "2024-03-18T12:31:17.851568Z",
          "shell.execute_reply": "2024-03-18T12:31:18.10703Z"
        },
        "trusted": true,
        "id": "cP2EY-RHPcAl"
      },
      "execution_count": null,
      "outputs": []
    },
    {
      "cell_type": "code",
      "source": [
        "sns.boxplot(df['AGE_YEARS'])"
      ],
      "metadata": {
        "execution": {
          "iopub.status.busy": "2024-03-18T12:31:25.575373Z",
          "iopub.execute_input": "2024-03-18T12:31:25.575885Z",
          "iopub.status.idle": "2024-03-18T12:31:25.817653Z",
          "shell.execute_reply.started": "2024-03-18T12:31:25.575848Z",
          "shell.execute_reply": "2024-03-18T12:31:25.816181Z"
        },
        "trusted": true,
        "id": "SC6nVOAPPcAr"
      },
      "execution_count": null,
      "outputs": []
    },
    {
      "cell_type": "code",
      "source": [
        "sns.boxplot(df['YEARS_EMPLOYED'])"
      ],
      "metadata": {
        "execution": {
          "iopub.status.busy": "2024-03-18T12:31:33.563946Z",
          "iopub.execute_input": "2024-03-18T12:31:33.564417Z",
          "iopub.status.idle": "2024-03-18T12:31:33.788017Z",
          "shell.execute_reply.started": "2024-03-18T12:31:33.564385Z",
          "shell.execute_reply": "2024-03-18T12:31:33.786756Z"
        },
        "trusted": true,
        "id": "YAz66M3EPcAr"
      },
      "execution_count": null,
      "outputs": []
    },
    {
      "cell_type": "code",
      "source": [
        "sns.boxplot(df['Family_Members'])"
      ],
      "metadata": {
        "execution": {
          "iopub.status.busy": "2024-03-18T12:31:43.632254Z",
          "iopub.execute_input": "2024-03-18T12:31:43.632743Z",
          "iopub.status.idle": "2024-03-18T12:31:43.881458Z",
          "shell.execute_reply.started": "2024-03-18T12:31:43.632686Z",
          "shell.execute_reply": "2024-03-18T12:31:43.880163Z"
        },
        "trusted": true,
        "id": "f9V47ESdPcAr"
      },
      "execution_count": null,
      "outputs": []
    },
    {
      "cell_type": "markdown",
      "source": [
        "# Removing Outliers"
      ],
      "metadata": {
        "id": "KsMaVlXwPcAr"
      }
    },
    {
      "cell_type": "code",
      "source": [
        "high_bound = df['CHILDREN'].quantile(0.999)\n",
        "print('high_bound :', round(high_bound,2))\n",
        "low_bound = df['CHILDREN'].quantile(0.001)\n",
        "print('low_bound :', low_bound)"
      ],
      "metadata": {
        "execution": {
          "iopub.status.busy": "2024-03-18T12:32:03.406801Z",
          "iopub.execute_input": "2024-03-18T12:32:03.407299Z",
          "iopub.status.idle": "2024-03-18T12:32:03.419299Z",
          "shell.execute_reply.started": "2024-03-18T12:32:03.407262Z",
          "shell.execute_reply": "2024-03-18T12:32:03.417739Z"
        },
        "trusted": true,
        "id": "BO-E8Hy8PcAs"
      },
      "execution_count": null,
      "outputs": []
    },
    {
      "cell_type": "code",
      "source": [
        "df = df[(df['CHILDREN']>=low_bound) & (df['CHILDREN']<=high_bound)]"
      ],
      "metadata": {
        "execution": {
          "iopub.status.busy": "2024-03-18T12:32:11.687251Z",
          "iopub.execute_input": "2024-03-18T12:32:11.687931Z",
          "iopub.status.idle": "2024-03-18T12:32:11.698032Z",
          "shell.execute_reply.started": "2024-03-18T12:32:11.687872Z",
          "shell.execute_reply": "2024-03-18T12:32:11.696558Z"
        },
        "trusted": true,
        "id": "GNGR7D90PcAs"
      },
      "execution_count": null,
      "outputs": []
    },
    {
      "cell_type": "code",
      "source": [
        "high_bound = df['Annual_income'].quantile(0.999)\n",
        "print('high_bound :', round(high_bound,0))\n",
        "low_bound = df['Annual_income'].quantile(0.001)\n",
        "print('low_bound :', low_bound)"
      ],
      "metadata": {
        "execution": {
          "iopub.status.busy": "2024-03-18T12:32:19.341589Z",
          "iopub.execute_input": "2024-03-18T12:32:19.342563Z",
          "iopub.status.idle": "2024-03-18T12:32:19.354231Z",
          "shell.execute_reply.started": "2024-03-18T12:32:19.342521Z",
          "shell.execute_reply": "2024-03-18T12:32:19.352576Z"
        },
        "trusted": true,
        "id": "EWy-J-DnPcAs"
      },
      "execution_count": null,
      "outputs": []
    },
    {
      "cell_type": "code",
      "source": [
        "df = df[(df['Annual_income']>=low_bound) & (df['Annual_income']<=high_bound)]"
      ],
      "metadata": {
        "execution": {
          "iopub.status.busy": "2024-03-18T12:32:27.868032Z",
          "iopub.execute_input": "2024-03-18T12:32:27.868487Z",
          "iopub.status.idle": "2024-03-18T12:32:27.879863Z",
          "shell.execute_reply.started": "2024-03-18T12:32:27.868455Z",
          "shell.execute_reply": "2024-03-18T12:32:27.878521Z"
        },
        "trusted": true,
        "id": "YGqxl6TRPcAs"
      },
      "execution_count": null,
      "outputs": []
    },
    {
      "cell_type": "code",
      "source": [
        "high_bound = df['YEARS_EMPLOYED'].quantile(0.999)\n",
        "print('high_bound :', round(high_bound,0))\n",
        "low_bound = df['YEARS_EMPLOYED'].quantile(0.001)\n",
        "print('low_bound :', low_bound)"
      ],
      "metadata": {
        "execution": {
          "iopub.status.busy": "2024-03-18T12:32:34.951349Z",
          "iopub.execute_input": "2024-03-18T12:32:34.951821Z",
          "iopub.status.idle": "2024-03-18T12:32:34.965063Z",
          "shell.execute_reply.started": "2024-03-18T12:32:34.951786Z",
          "shell.execute_reply": "2024-03-18T12:32:34.963587Z"
        },
        "trusted": true,
        "id": "_aa1xtHEPcAs"
      },
      "execution_count": null,
      "outputs": []
    },
    {
      "cell_type": "code",
      "source": [
        "df = df[(df['YEARS_EMPLOYED']>=low_bound) & (df['YEARS_EMPLOYED']<=high_bound)]"
      ],
      "metadata": {
        "execution": {
          "iopub.status.busy": "2024-03-18T12:32:43.219499Z",
          "iopub.execute_input": "2024-03-18T12:32:43.219971Z",
          "iopub.status.idle": "2024-03-18T12:32:43.229519Z",
          "shell.execute_reply.started": "2024-03-18T12:32:43.219931Z",
          "shell.execute_reply": "2024-03-18T12:32:43.228112Z"
        },
        "trusted": true,
        "id": "jQvFg-SUPcAs"
      },
      "execution_count": null,
      "outputs": []
    },
    {
      "cell_type": "code",
      "source": [
        "high_bound = df['Family_Members'].quantile(0.999)\n",
        "print('high_bound :', high_bound)\n",
        "low_bound = df['Family_Members'].quantile(0.001)\n",
        "print('low_bound :', low_bound)"
      ],
      "metadata": {
        "execution": {
          "iopub.status.busy": "2024-03-18T12:32:54.433551Z",
          "iopub.execute_input": "2024-03-18T12:32:54.434139Z",
          "iopub.status.idle": "2024-03-18T12:32:54.447071Z",
          "shell.execute_reply.started": "2024-03-18T12:32:54.434096Z",
          "shell.execute_reply": "2024-03-18T12:32:54.445834Z"
        },
        "trusted": true,
        "id": "FXWMa1qaPcAt"
      },
      "execution_count": null,
      "outputs": []
    },
    {
      "cell_type": "code",
      "source": [
        "df = df[(df['Family_Members']>=low_bound) & (df['Family_Members']<=high_bound)]"
      ],
      "metadata": {
        "execution": {
          "iopub.status.busy": "2024-03-18T12:33:03.823504Z",
          "iopub.execute_input": "2024-03-18T12:33:03.823924Z",
          "iopub.status.idle": "2024-03-18T12:33:03.833348Z",
          "shell.execute_reply.started": "2024-03-18T12:33:03.823893Z",
          "shell.execute_reply": "2024-03-18T12:33:03.831251Z"
        },
        "trusted": true,
        "id": "isbTSCCJPcAt"
      },
      "execution_count": null,
      "outputs": []
    },
    {
      "cell_type": "code",
      "source": [
        "df.head()"
      ],
      "metadata": {
        "execution": {
          "iopub.status.busy": "2024-03-18T12:34:46.443387Z",
          "iopub.execute_input": "2024-03-18T12:34:46.443927Z",
          "iopub.status.idle": "2024-03-18T12:34:46.468183Z",
          "shell.execute_reply.started": "2024-03-18T12:34:46.443887Z",
          "shell.execute_reply": "2024-03-18T12:34:46.466604Z"
        },
        "trusted": true,
        "id": "pQ492Od5PcAt"
      },
      "execution_count": null,
      "outputs": []
    },
    {
      "cell_type": "code",
      "source": [
        "# dropping ''Ind_ID' column as it is having only unique values (not required for ML Model)\n",
        "df.drop('Ind_ID', axis=1, inplace=True)"
      ],
      "metadata": {
        "execution": {
          "iopub.status.busy": "2024-03-18T12:34:55.255783Z",
          "iopub.execute_input": "2024-03-18T12:34:55.256219Z",
          "iopub.status.idle": "2024-03-18T12:34:55.264915Z",
          "shell.execute_reply.started": "2024-03-18T12:34:55.256188Z",
          "shell.execute_reply": "2024-03-18T12:34:55.26351Z"
        },
        "trusted": true,
        "id": "cECVY7CcPcAu"
      },
      "execution_count": null,
      "outputs": []
    },
    {
      "cell_type": "code",
      "source": [
        "df.head(2)"
      ],
      "metadata": {
        "execution": {
          "iopub.status.busy": "2024-03-18T12:35:03.036194Z",
          "iopub.execute_input": "2024-03-18T12:35:03.038227Z",
          "iopub.status.idle": "2024-03-18T12:35:03.056345Z",
          "shell.execute_reply.started": "2024-03-18T12:35:03.038171Z",
          "shell.execute_reply": "2024-03-18T12:35:03.055028Z"
        },
        "trusted": true,
        "id": "uscAmRoJPcAu"
      },
      "execution_count": null,
      "outputs": []
    },
    {
      "cell_type": "code",
      "source": [
        "# This graph shows that, majority of application are submitted by Female's\n",
        "plt.pie(df['GENDER'].value_counts(), labels=['Female', 'Male'], autopct='%1.2f%%')\n",
        "plt.title('% of Applications submitted based on Gender')\n",
        "plt.show()"
      ],
      "metadata": {
        "execution": {
          "iopub.status.busy": "2024-03-18T12:37:27.250813Z",
          "iopub.execute_input": "2024-03-18T12:37:27.251294Z",
          "iopub.status.idle": "2024-03-18T12:37:27.401243Z",
          "shell.execute_reply.started": "2024-03-18T12:37:27.251257Z",
          "shell.execute_reply": "2024-03-18T12:37:27.399611Z"
        },
        "trusted": true,
        "id": "f8_c_hZyPcAv"
      },
      "execution_count": null,
      "outputs": []
    },
    {
      "cell_type": "code",
      "source": [
        "# This graph shows that, majority of application are approved for Female's\n",
        "plt.pie(df[df['label']==0]['GENDER'].value_counts(), labels=['Female', 'Male'], autopct='%1.2f%%')\n",
        "plt.title('% of Applications Approved based on Gender')\n",
        "plt.show()"
      ],
      "metadata": {
        "execution": {
          "iopub.status.busy": "2024-03-18T12:37:38.970581Z",
          "iopub.execute_input": "2024-03-18T12:37:38.971096Z",
          "iopub.status.idle": "2024-03-18T12:37:39.113677Z",
          "shell.execute_reply.started": "2024-03-18T12:37:38.971063Z",
          "shell.execute_reply": "2024-03-18T12:37:39.111939Z"
        },
        "trusted": true,
        "id": "KQ-9FXHgPcAv"
      },
      "execution_count": null,
      "outputs": []
    },
    {
      "cell_type": "code",
      "source": [
        "# This graph shows that, majority of applicatant's dont own a car\n",
        "plt.pie(df['Car_Owner'].value_counts(), labels=['No', 'Yes'], autopct='%1.2f%%')\n",
        "plt.title('% of Applications submitted based on owning a Car')\n",
        "plt.show()"
      ],
      "metadata": {
        "execution": {
          "iopub.status.busy": "2024-03-18T12:37:57.697649Z",
          "iopub.execute_input": "2024-03-18T12:37:57.698857Z",
          "iopub.status.idle": "2024-03-18T12:37:57.858343Z",
          "shell.execute_reply.started": "2024-03-18T12:37:57.698816Z",
          "shell.execute_reply": "2024-03-18T12:37:57.8529Z"
        },
        "trusted": true,
        "id": "qTjwexvoPcAz"
      },
      "execution_count": null,
      "outputs": []
    },
    {
      "cell_type": "code",
      "source": [
        "# This graph shows that, majority of applicatant's own a Real Estate property / House\n",
        "plt.pie(df['Propert_Owner'].value_counts(), labels=['Yes','No'], autopct='%1.2f%%')\n",
        "plt.title('% of Applications submitted based on owning a Real estate property')\n",
        "plt.show()"
      ],
      "metadata": {
        "execution": {
          "iopub.status.busy": "2024-03-18T12:38:15.854311Z",
          "iopub.execute_input": "2024-03-18T12:38:15.855076Z",
          "iopub.status.idle": "2024-03-18T12:38:16.013292Z",
          "shell.execute_reply.started": "2024-03-18T12:38:15.855036Z",
          "shell.execute_reply": "2024-03-18T12:38:16.012247Z"
        },
        "trusted": true,
        "id": "gKKBliJaPcAz"
      },
      "execution_count": null,
      "outputs": []
    },
    {
      "cell_type": "code",
      "source": [
        "# This graph shows that, majority of applicatant's don't have any children\n",
        "plt.figure(figsize = (8,8))\n",
        "plt.pie(df['CHILDREN'].value_counts(), labels=df['CHILDREN'].value_counts().index, autopct='%1.2f%%')\n",
        "plt.title('% of Applications submitted based on Children count')\n",
        "plt.legend()\n",
        "plt.show()"
      ],
      "metadata": {
        "execution": {
          "iopub.status.busy": "2024-03-18T12:38:26.90281Z",
          "iopub.execute_input": "2024-03-18T12:38:26.903382Z",
          "iopub.status.idle": "2024-03-18T12:38:27.165534Z",
          "shell.execute_reply.started": "2024-03-18T12:38:26.903342Z",
          "shell.execute_reply": "2024-03-18T12:38:27.16443Z"
        },
        "trusted": true,
        "id": "mi3cq0sPPcAz"
      },
      "execution_count": null,
      "outputs": []
    },
    {
      "cell_type": "code",
      "source": [
        "# This graph shows that, majority of applicatant's income lies between 1 to 3 lakh\n",
        "plt.hist(df['Annual_income'], bins=20)\n",
        "plt.xlabel('Total Annual Income')\n",
        "plt.title('Histogram')\n",
        "plt.show()"
      ],
      "metadata": {
        "execution": {
          "iopub.status.busy": "2024-03-18T12:38:36.893498Z",
          "iopub.execute_input": "2024-03-18T12:38:36.894264Z",
          "iopub.status.idle": "2024-03-18T12:38:37.227655Z",
          "shell.execute_reply.started": "2024-03-18T12:38:36.894215Z",
          "shell.execute_reply": "2024-03-18T12:38:37.22647Z"
        },
        "trusted": true,
        "id": "2L-zaIhUPcAz"
      },
      "execution_count": null,
      "outputs": []
    },
    {
      "cell_type": "code",
      "source": [
        "# This graph shows that, majority of applicatant's are working professional\n",
        "plt.figure(figsize = (8,8))\n",
        "plt.pie(df['Type_Income'].value_counts(), labels=df['Type_Income'].value_counts().index, autopct='%1.2f%%')\n",
        "plt.title('% of Applications submitted based on Income Type')\n",
        "plt.legend()\n",
        "plt.show()"
      ],
      "metadata": {
        "execution": {
          "iopub.status.busy": "2024-03-18T12:38:45.825145Z",
          "iopub.execute_input": "2024-03-18T12:38:45.825631Z",
          "iopub.status.idle": "2024-03-18T12:38:46.117441Z",
          "shell.execute_reply.started": "2024-03-18T12:38:45.825594Z",
          "shell.execute_reply": "2024-03-18T12:38:46.116049Z"
        },
        "trusted": true,
        "id": "g_PJL0wXPcA0"
      },
      "execution_count": null,
      "outputs": []
    },
    {
      "cell_type": "code",
      "source": [
        "# This graph shows that, majority of applicatant's completed the Secondary Education\n",
        "plt.figure(figsize=(8,8))\n",
        "plt.pie(df['EDUCATION'].value_counts(), labels=df['EDUCATION'].value_counts().index, autopct='%1.2f%%')\n",
        "plt.title('% of Applications submitted based on Education')\n",
        "plt.legend()\n",
        "plt.show()"
      ],
      "metadata": {
        "execution": {
          "iopub.status.busy": "2024-03-18T12:38:56.673053Z",
          "iopub.execute_input": "2024-03-18T12:38:56.67346Z",
          "iopub.status.idle": "2024-03-18T12:38:57.022956Z",
          "shell.execute_reply.started": "2024-03-18T12:38:56.673429Z",
          "shell.execute_reply": "2024-03-18T12:38:57.021467Z"
        },
        "trusted": true,
        "id": "inVxQkKiPcA0"
      },
      "execution_count": null,
      "outputs": []
    },
    {
      "cell_type": "code",
      "source": [
        "# This graph shows that, majority of applicatant's are 25 to 65 years old\n",
        "plt.hist(df['AGE_YEARS'], bins=20)\n",
        "plt.xlabel('Age')\n",
        "plt.title('Histogram')\n",
        "plt.show()"
      ],
      "metadata": {
        "execution": {
          "iopub.status.busy": "2024-03-18T12:39:07.394421Z",
          "iopub.execute_input": "2024-03-18T12:39:07.394917Z",
          "iopub.status.idle": "2024-03-18T12:39:07.718107Z",
          "shell.execute_reply.started": "2024-03-18T12:39:07.394882Z",
          "shell.execute_reply": "2024-03-18T12:39:07.716934Z"
        },
        "trusted": true,
        "id": "kexFFlW1PcA0"
      },
      "execution_count": null,
      "outputs": []
    },
    {
      "cell_type": "code",
      "source": [
        "# This graph shows that, majority of applicatant's are Employed for 0 to 7 years\n",
        "plt.hist(df['YEARS_EMPLOYED'], bins=20)\n",
        "plt.xlabel('No of Years Employed')\n",
        "plt.title('Histogram')\n",
        "plt.show()"
      ],
      "metadata": {
        "execution": {
          "iopub.status.busy": "2024-03-18T12:39:15.803597Z",
          "iopub.execute_input": "2024-03-18T12:39:15.804104Z",
          "iopub.status.idle": "2024-03-18T12:39:16.117367Z",
          "shell.execute_reply.started": "2024-03-18T12:39:15.804068Z",
          "shell.execute_reply": "2024-03-18T12:39:16.116227Z"
        },
        "trusted": true,
        "id": "pDAcMu9PPcA0"
      },
      "execution_count": null,
      "outputs": []
    },
    {
      "cell_type": "markdown",
      "source": [
        "# Feature Selection"
      ],
      "metadata": {
        "id": "KQ2SXlGXPcA1"
      }
    },
    {
      "cell_type": "code",
      "source": [
        "df.head()"
      ],
      "metadata": {
        "execution": {
          "iopub.status.busy": "2024-03-18T12:39:51.103947Z",
          "iopub.execute_input": "2024-03-18T12:39:51.10555Z",
          "iopub.status.idle": "2024-03-18T12:39:51.129298Z",
          "shell.execute_reply.started": "2024-03-18T12:39:51.105495Z",
          "shell.execute_reply": "2024-03-18T12:39:51.127635Z"
        },
        "trusted": true,
        "id": "HxvcI1AmPcA1"
      },
      "execution_count": null,
      "outputs": []
    },
    {
      "cell_type": "code",
      "source": [
        "cat_columns"
      ],
      "metadata": {
        "execution": {
          "iopub.status.busy": "2024-03-18T12:40:09.621247Z",
          "iopub.execute_input": "2024-03-18T12:40:09.622573Z",
          "iopub.status.idle": "2024-03-18T12:40:09.631187Z",
          "shell.execute_reply.started": "2024-03-18T12:40:09.622515Z",
          "shell.execute_reply": "2024-03-18T12:40:09.62959Z"
        },
        "trusted": true,
        "id": "NCsq1TV1PcA1"
      },
      "execution_count": null,
      "outputs": []
    },
    {
      "cell_type": "code",
      "source": [
        "#Converting all Non-Numerical Columns to Numerical\n",
        "from sklearn.preprocessing import LabelEncoder\n",
        "le = LabelEncoder()\n",
        "\n",
        "for col in cat_columns:\n",
        "\n",
        "        df[col] = le.fit_transform(df[col])\n",
        "df.head()"
      ],
      "metadata": {
        "execution": {
          "iopub.status.busy": "2024-03-18T12:40:17.551039Z",
          "iopub.execute_input": "2024-03-18T12:40:17.551512Z",
          "iopub.status.idle": "2024-03-18T12:40:17.670869Z",
          "shell.execute_reply.started": "2024-03-18T12:40:17.551478Z",
          "shell.execute_reply": "2024-03-18T12:40:17.669609Z"
        },
        "trusted": true,
        "id": "JQI3BlGHPcA1"
      },
      "execution_count": null,
      "outputs": []
    },
    {
      "cell_type": "code",
      "source": [
        "df.corr()"
      ],
      "metadata": {
        "execution": {
          "iopub.status.busy": "2024-03-18T12:40:26.057887Z",
          "iopub.execute_input": "2024-03-18T12:40:26.058943Z",
          "iopub.status.idle": "2024-03-18T12:40:26.088007Z",
          "shell.execute_reply.started": "2024-03-18T12:40:26.058904Z",
          "shell.execute_reply": "2024-03-18T12:40:26.086764Z"
        },
        "trusted": true,
        "id": "hSDhMgQBPcA1"
      },
      "execution_count": null,
      "outputs": []
    },
    {
      "cell_type": "code",
      "source": [
        "features =df.drop(['label'], axis=1)\n",
        "target = df['label']"
      ],
      "metadata": {
        "execution": {
          "iopub.status.busy": "2024-03-18T12:40:36.975312Z",
          "iopub.execute_input": "2024-03-18T12:40:36.975865Z",
          "iopub.status.idle": "2024-03-18T12:40:36.986245Z",
          "shell.execute_reply.started": "2024-03-18T12:40:36.975822Z",
          "shell.execute_reply": "2024-03-18T12:40:36.98457Z"
        },
        "trusted": true,
        "id": "SbrPCXS6PcA2"
      },
      "execution_count": null,
      "outputs": []
    },
    {
      "cell_type": "code",
      "source": [
        "features.head()"
      ],
      "metadata": {
        "execution": {
          "iopub.status.busy": "2024-03-18T12:40:44.871919Z",
          "iopub.execute_input": "2024-03-18T12:40:44.872494Z",
          "iopub.status.idle": "2024-03-18T12:40:44.897102Z",
          "shell.execute_reply.started": "2024-03-18T12:40:44.872449Z",
          "shell.execute_reply": "2024-03-18T12:40:44.895517Z"
        },
        "trusted": true,
        "id": "A9KYbHiWPcA2"
      },
      "execution_count": null,
      "outputs": []
    },
    {
      "cell_type": "code",
      "source": [
        "features.head()"
      ],
      "metadata": {
        "execution": {
          "iopub.status.busy": "2024-03-18T12:40:53.495645Z",
          "iopub.execute_input": "2024-03-18T12:40:53.497179Z",
          "iopub.status.idle": "2024-03-18T12:40:53.520358Z",
          "shell.execute_reply.started": "2024-03-18T12:40:53.497125Z",
          "shell.execute_reply": "2024-03-18T12:40:53.519218Z"
        },
        "trusted": true,
        "id": "UemCWvihPcA2"
      },
      "execution_count": null,
      "outputs": []
    },
    {
      "cell_type": "markdown",
      "source": [
        "# Machine Learning Model"
      ],
      "metadata": {
        "id": "qnA4fqX1PcA2"
      }
    },
    {
      "cell_type": "code",
      "source": [
        "from sklearn.model_selection import train_test_split\n",
        "x_train, x_test, y_train, y_test = train_test_split(features,\n",
        "                                                    target,\n",
        "                                                    test_size=0.2,\n",
        "                                                    random_state = 10)"
      ],
      "metadata": {
        "execution": {
          "iopub.status.busy": "2024-03-18T12:41:32.009372Z",
          "iopub.execute_input": "2024-03-18T12:41:32.009907Z",
          "iopub.status.idle": "2024-03-18T12:41:32.13444Z",
          "shell.execute_reply.started": "2024-03-18T12:41:32.009871Z",
          "shell.execute_reply": "2024-03-18T12:41:32.132659Z"
        },
        "trusted": true,
        "id": "BNdoo6bLPcA2"
      },
      "execution_count": null,
      "outputs": []
    },
    {
      "cell_type": "markdown",
      "source": [
        "# Balancing dataset"
      ],
      "metadata": {
        "id": "uK4yHfyNPcA3"
      }
    },
    {
      "cell_type": "code",
      "source": [
        "from sklearn.preprocessing import MinMaxScaler\n",
        "MMS = MinMaxScaler()\n",
        "x_train_scaled = pd.DataFrame(MMS.fit_transform(x_train), columns=x_train.columns)\n",
        "x_test_scaled = pd.DataFrame(MMS.transform(x_test), columns=x_test.columns)"
      ],
      "metadata": {
        "execution": {
          "iopub.status.busy": "2024-03-18T12:41:56.177889Z",
          "iopub.execute_input": "2024-03-18T12:41:56.179264Z",
          "iopub.status.idle": "2024-03-18T12:41:56.194909Z",
          "shell.execute_reply.started": "2024-03-18T12:41:56.17921Z",
          "shell.execute_reply": "2024-03-18T12:41:56.19312Z"
        },
        "trusted": true,
        "id": "T_OFXoPdPcA3"
      },
      "execution_count": null,
      "outputs": []
    },
    {
      "cell_type": "code",
      "source": [
        "# adding samples to minority class using SMOTE\n",
        "from imblearn.over_sampling import SMOTE\n",
        "oversample = SMOTE()\n",
        "\n",
        "x_train_oversam, y_train_oversam = oversample.fit_resample(x_train_scaled, y_train)\n",
        "x_test_oversam, y_test_oversam = oversample.fit_resample(x_test_scaled, y_test)"
      ],
      "metadata": {
        "execution": {
          "iopub.status.busy": "2024-03-18T12:42:05.847876Z",
          "iopub.execute_input": "2024-03-18T12:42:05.848332Z",
          "iopub.status.idle": "2024-03-18T12:42:06.560146Z",
          "shell.execute_reply.started": "2024-03-18T12:42:05.848301Z",
          "shell.execute_reply": "2024-03-18T12:42:06.558819Z"
        },
        "trusted": true,
        "id": "-95MWnE0PcA3"
      },
      "execution_count": null,
      "outputs": []
    },
    {
      "cell_type": "code",
      "source": [
        "# Original majority and minority class\n",
        "y_train.value_counts(normalize=True)*100"
      ],
      "metadata": {
        "execution": {
          "iopub.status.busy": "2024-03-18T12:42:14.010338Z",
          "iopub.execute_input": "2024-03-18T12:42:14.012002Z",
          "iopub.status.idle": "2024-03-18T12:42:14.025358Z",
          "shell.execute_reply.started": "2024-03-18T12:42:14.011687Z",
          "shell.execute_reply": "2024-03-18T12:42:14.02367Z"
        },
        "trusted": true,
        "id": "j7OCANknPcA3"
      },
      "execution_count": null,
      "outputs": []
    },
    {
      "cell_type": "code",
      "source": [
        "# after using SMOTE\n",
        "y_train_oversam.value_counts(normalize=True)*100"
      ],
      "metadata": {
        "execution": {
          "iopub.status.busy": "2024-03-18T12:42:25.826143Z",
          "iopub.execute_input": "2024-03-18T12:42:25.826625Z",
          "iopub.status.idle": "2024-03-18T12:42:25.838402Z",
          "shell.execute_reply.started": "2024-03-18T12:42:25.826591Z",
          "shell.execute_reply": "2024-03-18T12:42:25.837258Z"
        },
        "trusted": true,
        "id": "Ps1REXppPcA3"
      },
      "execution_count": null,
      "outputs": []
    },
    {
      "cell_type": "code",
      "source": [
        "# Logistic Regression\n",
        "\n",
        "from sklearn.linear_model import LogisticRegression\n",
        "from sklearn.metrics import classification_report, accuracy_score, confusion_matrix\n",
        "\n",
        "log_model = LogisticRegression()\n",
        "log_model.fit(x_train_oversam, y_train_oversam)\n",
        "\n",
        "print('Logistic Model Accuracy : ', log_model.score(x_test_oversam, y_test_oversam)*100, '%')\n",
        "\n",
        "prediction = log_model.predict(x_test_oversam)\n",
        "print('\\nConfusion matrix :')\n",
        "print(confusion_matrix(y_test_oversam, prediction))\n",
        "\n",
        "print('\\nClassification report:')\n",
        "print(classification_report(y_test_oversam, prediction))"
      ],
      "metadata": {
        "execution": {
          "iopub.status.busy": "2024-03-18T12:42:35.393306Z",
          "iopub.execute_input": "2024-03-18T12:42:35.393848Z",
          "iopub.status.idle": "2024-03-18T12:42:35.481393Z",
          "shell.execute_reply.started": "2024-03-18T12:42:35.393811Z",
          "shell.execute_reply": "2024-03-18T12:42:35.479748Z"
        },
        "trusted": true,
        "id": "hfOjYWCaPcA4"
      },
      "execution_count": null,
      "outputs": []
    },
    {
      "cell_type": "markdown",
      "source": [
        "# Decision Tree classification"
      ],
      "metadata": {
        "id": "6ApKYM5JPcA4"
      }
    },
    {
      "cell_type": "code",
      "source": [
        "from sklearn.tree import DecisionTreeClassifier\n",
        "\n",
        "from sklearn.tree import DecisionTreeClassifier\n",
        "\n",
        "decision_model = DecisionTreeClassifier(max_depth=12,min_samples_split=8)\n",
        "\n",
        "decision_model.fit(x_train_oversam, y_train_oversam)\n",
        "\n",
        "print('Decision Tree Model Accuracy : ', decision_model.score(x_test_oversam, y_test_oversam)*100, '%')\n",
        "\n",
        "prediction = decision_model.predict(x_test_oversam)\n",
        "print('\\nConfusion matrix :')\n",
        "print(confusion_matrix(y_test_oversam, prediction))\n",
        "\n",
        "print('\\nClassification report:')\n",
        "print(classification_report(y_test_oversam, prediction))"
      ],
      "metadata": {
        "execution": {
          "iopub.status.busy": "2024-03-18T12:43:01.803848Z",
          "iopub.execute_input": "2024-03-18T12:43:01.804316Z",
          "iopub.status.idle": "2024-03-18T12:43:01.845496Z",
          "shell.execute_reply.started": "2024-03-18T12:43:01.804284Z",
          "shell.execute_reply": "2024-03-18T12:43:01.844135Z"
        },
        "trusted": true,
        "id": "H_KG9DqqPcA4"
      },
      "execution_count": null,
      "outputs": []
    },
    {
      "cell_type": "markdown",
      "source": [
        "# Random Forest classification"
      ],
      "metadata": {
        "id": "BvKhDKvNPcA4"
      }
    },
    {
      "cell_type": "code",
      "source": [
        "from sklearn.ensemble import RandomForestClassifier\n",
        "\n",
        "from sklearn.ensemble import RandomForestClassifier\n",
        "\n",
        "RandomForest_model = RandomForestClassifier(n_estimators=250,\n",
        "                                            max_depth=12,\n",
        "                                            min_samples_leaf=16)\n",
        "\n",
        "RandomForest_model.fit(x_train_oversam, y_train_oversam)\n",
        "\n",
        "print('Random Forest Model Accuracy : ', RandomForest_model.score(x_test_oversam, y_test_oversam)*100, '%')\n",
        "\n",
        "prediction = RandomForest_model.predict(x_test_oversam)\n",
        "print('\\nConfusion matrix :')\n",
        "print(confusion_matrix(y_test_oversam, prediction))\n",
        "\n",
        "print('\\nClassification report:')\n",
        "print(classification_report(y_test_oversam, prediction))"
      ],
      "metadata": {
        "execution": {
          "iopub.status.busy": "2024-03-18T12:43:24.459159Z",
          "iopub.execute_input": "2024-03-18T12:43:24.459689Z",
          "iopub.status.idle": "2024-03-18T12:43:25.565777Z",
          "shell.execute_reply.started": "2024-03-18T12:43:24.45965Z",
          "shell.execute_reply": "2024-03-18T12:43:25.5633Z"
        },
        "trusted": true,
        "id": "BAE15_jJPcA5"
      },
      "execution_count": null,
      "outputs": []
    },
    {
      "cell_type": "markdown",
      "source": [
        "\n",
        "# Support Vector Machine classification"
      ],
      "metadata": {
        "id": "CTsjILGqPcA5"
      }
    },
    {
      "cell_type": "code",
      "source": [
        "from sklearn.svm import SVC\n",
        "\n",
        "svc_model = SVC()\n",
        "\n",
        "svc_model.fit(x_train, y_train)\n",
        "\n",
        "print('Support Vector Classifier Accuracy : ', svc_model.score(x_test, y_test)*100, '%')\n",
        "\n",
        "prediction = svc_model.predict(x_test)\n",
        "print('\\nConfusion matrix :')\n",
        "print(confusion_matrix(y_test, prediction))\n",
        "\n",
        "print('\\nClassification report:')\n",
        "print(classification_report(y_test, prediction))"
      ],
      "metadata": {
        "execution": {
          "iopub.status.busy": "2024-03-18T12:43:48.330654Z",
          "iopub.execute_input": "2024-03-18T12:43:48.331184Z",
          "iopub.status.idle": "2024-03-18T12:43:48.408592Z",
          "shell.execute_reply.started": "2024-03-18T12:43:48.331148Z",
          "shell.execute_reply": "2024-03-18T12:43:48.406799Z"
        },
        "trusted": true,
        "id": "DyFhZq54PcA5"
      },
      "execution_count": null,
      "outputs": []
    },
    {
      "cell_type": "markdown",
      "source": [
        "# XGBoost classification"
      ],
      "metadata": {
        "id": "LdmHGG29PcA5"
      }
    },
    {
      "cell_type": "code",
      "source": [
        "from xgboost import XGBClassifier\n",
        "\n",
        "XGB_model = XGBClassifier()\n",
        "\n",
        "XGB_model.fit(x_train_oversam, y_train_oversam)\n",
        "\n",
        "print('XGBoost Model Accuracy : ', XGB_model.score(x_test_oversam, y_test_oversam)*100, '%')\n",
        "\n",
        "prediction = XGB_model.predict(x_test_oversam)\n",
        "print('\\nConfusion matrix :')\n",
        "print(confusion_matrix(y_test_oversam, prediction))\n",
        "\n",
        "print('\\nClassification report:')\n",
        "print(classification_report(y_test_oversam, prediction))"
      ],
      "metadata": {
        "execution": {
          "iopub.status.busy": "2024-03-18T12:44:18.871372Z",
          "iopub.execute_input": "2024-03-18T12:44:18.871873Z",
          "iopub.status.idle": "2024-03-18T12:44:19.34424Z",
          "shell.execute_reply.started": "2024-03-18T12:44:18.871838Z",
          "shell.execute_reply": "2024-03-18T12:44:19.343185Z"
        },
        "trusted": true,
        "id": "SuQ4WUyyPcA5"
      },
      "execution_count": null,
      "outputs": []
    },
    {
      "cell_type": "markdown",
      "source": [
        "# Validation"
      ],
      "metadata": {
        "id": "ZpHIB1_-PcA6"
      }
    },
    {
      "cell_type": "markdown",
      "source": [
        "**K-Fold Cross Validation**"
      ],
      "metadata": {
        "id": "R0grHAOCPcA6"
      }
    },
    {
      "cell_type": "code",
      "source": [
        "from sklearn.model_selection import KFold\n",
        "from sklearn.model_selection import cross_val_score\n",
        "kfold = KFold(3)"
      ],
      "metadata": {
        "execution": {
          "iopub.status.busy": "2024-03-18T12:45:21.706239Z",
          "iopub.execute_input": "2024-03-18T12:45:21.706733Z",
          "iopub.status.idle": "2024-03-18T12:45:21.714092Z",
          "shell.execute_reply.started": "2024-03-18T12:45:21.706684Z",
          "shell.execute_reply": "2024-03-18T12:45:21.712467Z"
        },
        "trusted": true,
        "id": "CQh07nN8PcA6"
      },
      "execution_count": null,
      "outputs": []
    },
    {
      "cell_type": "code",
      "source": [
        "# Decision Tree classification\n",
        "\n",
        "results=cross_val_score(decision_model,features,target,cv=kfold)\n",
        "print(results*100,'\\n')\n",
        "\n",
        "print(np.mean(results)*100)"
      ],
      "metadata": {
        "execution": {
          "iopub.status.busy": "2024-03-18T12:45:31.460867Z",
          "iopub.execute_input": "2024-03-18T12:45:31.461411Z",
          "iopub.status.idle": "2024-03-18T12:45:31.502833Z",
          "shell.execute_reply.started": "2024-03-18T12:45:31.461373Z",
          "shell.execute_reply": "2024-03-18T12:45:31.5015Z"
        },
        "trusted": true,
        "id": "QF-DzqqTPcA6"
      },
      "execution_count": null,
      "outputs": []
    },
    {
      "cell_type": "code",
      "source": [
        "# Random Forest classification\n",
        "\n",
        "results=cross_val_score(RandomForest_model,features,target,cv=kfold)\n",
        "print(results*100,'\\n')\n",
        "\n",
        "print(np.mean(results)*100)"
      ],
      "metadata": {
        "execution": {
          "iopub.status.busy": "2024-03-18T12:45:39.518088Z",
          "iopub.execute_input": "2024-03-18T12:45:39.518609Z",
          "iopub.status.idle": "2024-03-18T12:45:41.61915Z",
          "shell.execute_reply.started": "2024-03-18T12:45:39.518572Z",
          "shell.execute_reply": "2024-03-18T12:45:41.61792Z"
        },
        "trusted": true,
        "id": "x2uI04nkPcA6"
      },
      "execution_count": null,
      "outputs": []
    },
    {
      "cell_type": "code",
      "source": [
        "# XGBoost classification\n",
        "\n",
        "results=cross_val_score(XGB_model,features,target,cv=kfold)\n",
        "print(results*100,'\\n')\n",
        "\n",
        "print(np.mean(results)*100)"
      ],
      "metadata": {
        "execution": {
          "iopub.status.busy": "2024-03-18T12:45:47.745442Z",
          "iopub.execute_input": "2024-03-18T12:45:47.747109Z",
          "iopub.status.idle": "2024-03-18T12:45:48.666741Z",
          "shell.execute_reply.started": "2024-03-18T12:45:47.747051Z",
          "shell.execute_reply": "2024-03-18T12:45:48.66558Z"
        },
        "trusted": true,
        "id": "Olob_MwIPcA6"
      },
      "execution_count": null,
      "outputs": []
    },
    {
      "cell_type": "markdown",
      "source": [
        "# Conclusion"
      ],
      "metadata": {
        "id": "mBgeIngtPcA7"
      }
    },
    {
      "cell_type": "markdown",
      "source": [
        "As we have seen that, XGBoost Model is giving highest accuracy of 90 %, hence we will use XGBoost Model for predicion"
      ],
      "metadata": {
        "id": "4JLoDniFPcA7"
      }
    }
  ]
}